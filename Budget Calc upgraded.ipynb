{
 "cells": [
  {
   "cell_type": "code",
   "execution_count": 1,
   "metadata": {},
   "outputs": [
    {
     "name": "stdout",
     "output_type": "stream",
     "text": [
      "\n",
      "\n",
      "\n",
      "\n",
      "\n",
      "Welcome to the budget calculator!\n",
      "Please choose from the following options.\n",
      "(If this is your first time here, please use setup to configure the calculator!)\n",
      "\n",
      "1: Budgets\n",
      "2: Spends\n",
      "3: Summary\n",
      "4: Setup\n",
      "\n",
      "\n",
      "4\n",
      "True\n"
     ]
    }
   ],
   "source": [
    "master_list = []\n",
    "budget_list = {}\n",
    "spend_list = {}\n",
    "\n",
    "def start_menu():\n",
    "    k = True\n",
    "\n",
    "    while k:\n",
    "        x = input(\"\\n\"*5 + \"Welcome to the budget calculator!\\nPlease choose from the following options.\\n(If this is your first time here, please use setup to configure the calculator!)\\n\\n1: Budgets\\n2: Spends\\n3: Summary\\n4: Setup\\n\\n\\n\")\n",
    "\n",
    "        if x == \"1\" or x.lower() == \"budgets\":\n",
    "            print(True)\n",
    "            k = False\n",
    "\n",
    "        elif x == \"2\" or x.lower() == \"spends\":\n",
    "            print(True)\n",
    "            k = False\n",
    "\n",
    "        elif x == \"3\" or x.lower() == \"summary\":\n",
    "            print(True)\n",
    "            k = False\n",
    "\n",
    "        elif x == \"4\" or x.lower() == \"setup\":\n",
    "            print(True)\n",
    "            k = False\n",
    "\n",
    "        else:\n",
    "            print(\"You have made an invalid selection, please try again\")\n",
    "\n",
    "def setup_catagories():\n",
    "    while \"done\" not in master_list:\n",
    "        master_list.append(input(\"\\n\"*5 + \"Please enter your catagories! (i.e 'Rent', 'Car', 'Etc')\").lower())\n",
    "    else:\n",
    "        master_list.pop()\n",
    "        print(\"You entered: \" + str(master_list).title())\n",
    "\n",
    "start_menu()"
   ]
  },
  {
   "cell_type": "code",
   "execution_count": null,
   "metadata": {},
   "outputs": [],
   "source": [
    "setup_catagories()"
   ]
  },
  {
   "cell_type": "markdown",
   "metadata": {},
   "source": [
    "## "
   ]
  },
  {
   "cell_type": "code",
   "execution_count": null,
   "metadata": {},
   "outputs": [],
   "source": []
  }
 ],
 "metadata": {
  "kernelspec": {
   "display_name": "Python 3",
   "language": "python",
   "name": "python3"
  },
  "language_info": {
   "codemirror_mode": {
    "name": "ipython",
    "version": 3
   },
   "file_extension": ".py",
   "mimetype": "text/x-python",
   "name": "python",
   "nbconvert_exporter": "python",
   "pygments_lexer": "ipython3",
   "version": "3.7.4"
  }
 },
 "nbformat": 4,
 "nbformat_minor": 2
}
